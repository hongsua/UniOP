{
 "cells": [
  {
   "cell_type": "code",
   "execution_count": 1,
   "id": "298a5be9",
   "metadata": {},
   "outputs": [],
   "source": [
    "import sys\n",
    "import numpy as np\n",
    "sys.path.insert(1,'/home/hongsu/projects/operonPrediction/bin/final_version/src')\n",
    "\n",
    "from DistanceModel import *"
   ]
  },
  {
   "cell_type": "code",
   "execution_count": 2,
   "id": "4a80efeb",
   "metadata": {},
   "outputs": [],
   "source": [
    "def save_distPred(infile, outfile):\n",
    "    df_gff = read_faa(infile)\n",
    "    df_pairs = extract_pairs_multicontigs(df_gff)\n",
    "    q = estimate_q(df_pairs)\n",
    "    dist_pred = distPred(q, df_pairs)\n",
    "    dist_pred.to_csv(outfile)"
   ]
  },
  {
   "cell_type": "code",
   "execution_count": null,
   "id": "6da77a3b",
   "metadata": {},
   "outputs": [],
   "source": [
    "pred_db  = f\"/home/hongsu/databases/ncbi_dataset/dist_prediction\""
   ]
  }
 ],
 "metadata": {
  "kernelspec": {
   "display_name": "Python 3 (ipykernel)",
   "language": "python",
   "name": "python3"
  },
  "language_info": {
   "codemirror_mode": {
    "name": "ipython",
    "version": 3
   },
   "file_extension": ".py",
   "mimetype": "text/x-python",
   "name": "python",
   "nbconvert_exporter": "python",
   "pygments_lexer": "ipython3",
   "version": "3.10.12"
  }
 },
 "nbformat": 4,
 "nbformat_minor": 5
}
